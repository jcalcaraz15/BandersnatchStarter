{
 "cells": [
  {
   "cell_type": "code",
   "execution_count": 406,
   "metadata": {},
   "outputs": [],
   "source": [
    "import pandas as pd\n",
    "from data import MongoDB\n",
    "from sklearn.ensemble import RandomForestClassifier\n",
    "from sklearn.model_selection import train_test_split\n",
    "from sklearn.pipeline import make_pipeline\n",
    "from sklearn.preprocessing import OneHotEncoder\n"
   ]
  },
  {
   "cell_type": "code",
   "execution_count": 407,
   "metadata": {},
   "outputs": [
    {
     "data": {
      "text/html": [
       "<div>\n",
       "<style scoped>\n",
       "    .dataframe tbody tr th:only-of-type {\n",
       "        vertical-align: middle;\n",
       "    }\n",
       "\n",
       "    .dataframe tbody tr th {\n",
       "        vertical-align: top;\n",
       "    }\n",
       "\n",
       "    .dataframe thead th {\n",
       "        text-align: right;\n",
       "    }\n",
       "</style>\n",
       "<table border=\"1\" class=\"dataframe\">\n",
       "  <thead>\n",
       "    <tr style=\"text-align: right;\">\n",
       "      <th></th>\n",
       "      <th>Name</th>\n",
       "      <th>Type</th>\n",
       "      <th>Level</th>\n",
       "      <th>Rarity</th>\n",
       "      <th>Damage</th>\n",
       "      <th>Health</th>\n",
       "      <th>Energy</th>\n",
       "      <th>Sanity</th>\n",
       "      <th>Timestamp</th>\n",
       "    </tr>\n",
       "  </thead>\n",
       "  <tbody>\n",
       "    <tr>\n",
       "      <th>0</th>\n",
       "      <td>Pit Fiend</td>\n",
       "      <td>Demonic</td>\n",
       "      <td>5</td>\n",
       "      <td>Rank 4</td>\n",
       "      <td>5d10</td>\n",
       "      <td>47.68</td>\n",
       "      <td>47.82</td>\n",
       "      <td>51.38</td>\n",
       "      <td>2024-02-22 21:16:56</td>\n",
       "    </tr>\n",
       "    <tr>\n",
       "      <th>1</th>\n",
       "      <td>Ice Mephit</td>\n",
       "      <td>Elemental</td>\n",
       "      <td>3</td>\n",
       "      <td>Rank 3</td>\n",
       "      <td>3d8</td>\n",
       "      <td>27.25</td>\n",
       "      <td>21.90</td>\n",
       "      <td>25.28</td>\n",
       "      <td>2024-02-22 21:16:56</td>\n",
       "    </tr>\n",
       "    <tr>\n",
       "      <th>2</th>\n",
       "      <td>Pit Lord</td>\n",
       "      <td>Devilkin</td>\n",
       "      <td>11</td>\n",
       "      <td>Rank 1</td>\n",
       "      <td>11d4+1</td>\n",
       "      <td>42.69</td>\n",
       "      <td>43.93</td>\n",
       "      <td>43.73</td>\n",
       "      <td>2024-02-22 21:16:56</td>\n",
       "    </tr>\n",
       "    <tr>\n",
       "      <th>3</th>\n",
       "      <td>Ghostly Archer</td>\n",
       "      <td>Undead</td>\n",
       "      <td>3</td>\n",
       "      <td>Rank 0</td>\n",
       "      <td>3d2</td>\n",
       "      <td>5.18</td>\n",
       "      <td>5.16</td>\n",
       "      <td>6.46</td>\n",
       "      <td>2024-02-22 21:16:56</td>\n",
       "    </tr>\n",
       "    <tr>\n",
       "      <th>4</th>\n",
       "      <td>Gold Faerie</td>\n",
       "      <td>Fey</td>\n",
       "      <td>7</td>\n",
       "      <td>Rank 0</td>\n",
       "      <td>7d2+4</td>\n",
       "      <td>13.08</td>\n",
       "      <td>14.89</td>\n",
       "      <td>14.80</td>\n",
       "      <td>2024-02-22 21:16:56</td>\n",
       "    </tr>\n",
       "  </tbody>\n",
       "</table>\n",
       "</div>"
      ],
      "text/plain": [
       "             Name       Type  Level  Rarity  Damage  Health  Energy  Sanity  \\\n",
       "0       Pit Fiend    Demonic      5  Rank 4    5d10   47.68   47.82   51.38   \n",
       "1      Ice Mephit  Elemental      3  Rank 3     3d8   27.25   21.90   25.28   \n",
       "2        Pit Lord   Devilkin     11  Rank 1  11d4+1   42.69   43.93   43.73   \n",
       "3  Ghostly Archer     Undead      3  Rank 0     3d2    5.18    5.16    6.46   \n",
       "4     Gold Faerie        Fey      7  Rank 0   7d2+4   13.08   14.89   14.80   \n",
       "\n",
       "             Timestamp  \n",
       "0  2024-02-22 21:16:56  \n",
       "1  2024-02-22 21:16:56  \n",
       "2  2024-02-22 21:16:56  \n",
       "3  2024-02-22 21:16:56  \n",
       "4  2024-02-22 21:16:56  "
      ]
     },
     "execution_count": 407,
     "metadata": {},
     "output_type": "execute_result"
    }
   ],
   "source": [
    "db = MongoDB(\"Collection\")\n",
    "df = db.dataframe()\n",
    "df.head()"
   ]
  },
  {
   "cell_type": "code",
   "execution_count": 408,
   "metadata": {},
   "outputs": [
    {
     "data": {
      "text/html": [
       "<div>\n",
       "<style scoped>\n",
       "    .dataframe tbody tr th:only-of-type {\n",
       "        vertical-align: middle;\n",
       "    }\n",
       "\n",
       "    .dataframe tbody tr th {\n",
       "        vertical-align: top;\n",
       "    }\n",
       "\n",
       "    .dataframe thead th {\n",
       "        text-align: right;\n",
       "    }\n",
       "</style>\n",
       "<table border=\"1\" class=\"dataframe\">\n",
       "  <thead>\n",
       "    <tr style=\"text-align: right;\">\n",
       "      <th></th>\n",
       "      <th>Type</th>\n",
       "      <th>Level</th>\n",
       "      <th>Rarity</th>\n",
       "      <th>Health</th>\n",
       "      <th>Energy</th>\n",
       "      <th>Sanity</th>\n",
       "    </tr>\n",
       "  </thead>\n",
       "  <tbody>\n",
       "    <tr>\n",
       "      <th>0</th>\n",
       "      <td>Demonic</td>\n",
       "      <td>5</td>\n",
       "      <td>Rank 4</td>\n",
       "      <td>47.68</td>\n",
       "      <td>47.82</td>\n",
       "      <td>51.38</td>\n",
       "    </tr>\n",
       "    <tr>\n",
       "      <th>1</th>\n",
       "      <td>Elemental</td>\n",
       "      <td>3</td>\n",
       "      <td>Rank 3</td>\n",
       "      <td>27.25</td>\n",
       "      <td>21.90</td>\n",
       "      <td>25.28</td>\n",
       "    </tr>\n",
       "    <tr>\n",
       "      <th>2</th>\n",
       "      <td>Devilkin</td>\n",
       "      <td>11</td>\n",
       "      <td>Rank 1</td>\n",
       "      <td>42.69</td>\n",
       "      <td>43.93</td>\n",
       "      <td>43.73</td>\n",
       "    </tr>\n",
       "    <tr>\n",
       "      <th>3</th>\n",
       "      <td>Undead</td>\n",
       "      <td>3</td>\n",
       "      <td>Rank 0</td>\n",
       "      <td>5.18</td>\n",
       "      <td>5.16</td>\n",
       "      <td>6.46</td>\n",
       "    </tr>\n",
       "    <tr>\n",
       "      <th>4</th>\n",
       "      <td>Fey</td>\n",
       "      <td>7</td>\n",
       "      <td>Rank 0</td>\n",
       "      <td>13.08</td>\n",
       "      <td>14.89</td>\n",
       "      <td>14.80</td>\n",
       "    </tr>\n",
       "  </tbody>\n",
       "</table>\n",
       "</div>"
      ],
      "text/plain": [
       "        Type  Level  Rarity  Health  Energy  Sanity\n",
       "0    Demonic      5  Rank 4   47.68   47.82   51.38\n",
       "1  Elemental      3  Rank 3   27.25   21.90   25.28\n",
       "2   Devilkin     11  Rank 1   42.69   43.93   43.73\n",
       "3     Undead      3  Rank 0    5.18    5.16    6.46\n",
       "4        Fey      7  Rank 0   13.08   14.89   14.80"
      ]
     },
     "execution_count": 408,
     "metadata": {},
     "output_type": "execute_result"
    }
   ],
   "source": [
    "# Drop high cardinality categorical columns\n",
    "df.drop(['Name', 'Damage', 'Timestamp'], axis=1, inplace=True)\n",
    "df.head()"
   ]
  },
  {
   "cell_type": "code",
   "execution_count": 409,
   "metadata": {},
   "outputs": [],
   "source": [
    "# Define target variables and features\n",
    "y = df['Rarity'].str.extract('(\\d+)')\n",
    "oneD_y = y.squeeze().astype(int)\n",
    "X = df.drop(columns=['Rarity'])\n"
   ]
  },
  {
   "cell_type": "code",
   "execution_count": 410,
   "metadata": {},
   "outputs": [],
   "source": [
    "# One-hot encoding\n",
    "encoded_data = pd.get_dummies(df['Type'], dtype=int)\n",
    "\n",
    "# Concatenate the original DataFrame with the encoded columns\n",
    "data_encoded = pd.concat([X, encoded_data], axis=1)"
   ]
  },
  {
   "cell_type": "code",
   "execution_count": 412,
   "metadata": {},
   "outputs": [],
   "source": [
    "data_encoded.drop(['Type'], axis=1, inplace=True)"
   ]
  },
  {
   "cell_type": "code",
   "execution_count": 413,
   "metadata": {},
   "outputs": [
    {
     "data": {
      "text/html": [
       "<div>\n",
       "<style scoped>\n",
       "    .dataframe tbody tr th:only-of-type {\n",
       "        vertical-align: middle;\n",
       "    }\n",
       "\n",
       "    .dataframe tbody tr th {\n",
       "        vertical-align: top;\n",
       "    }\n",
       "\n",
       "    .dataframe thead th {\n",
       "        text-align: right;\n",
       "    }\n",
       "</style>\n",
       "<table border=\"1\" class=\"dataframe\">\n",
       "  <thead>\n",
       "    <tr style=\"text-align: right;\">\n",
       "      <th></th>\n",
       "      <th>Level</th>\n",
       "      <th>Health</th>\n",
       "      <th>Energy</th>\n",
       "      <th>Sanity</th>\n",
       "      <th>Demonic</th>\n",
       "      <th>Devilkin</th>\n",
       "      <th>Dragon</th>\n",
       "      <th>Elemental</th>\n",
       "      <th>Fey</th>\n",
       "      <th>Undead</th>\n",
       "    </tr>\n",
       "  </thead>\n",
       "  <tbody>\n",
       "    <tr>\n",
       "      <th>0</th>\n",
       "      <td>5</td>\n",
       "      <td>47.68</td>\n",
       "      <td>47.82</td>\n",
       "      <td>51.38</td>\n",
       "      <td>1</td>\n",
       "      <td>0</td>\n",
       "      <td>0</td>\n",
       "      <td>0</td>\n",
       "      <td>0</td>\n",
       "      <td>0</td>\n",
       "    </tr>\n",
       "    <tr>\n",
       "      <th>1</th>\n",
       "      <td>3</td>\n",
       "      <td>27.25</td>\n",
       "      <td>21.90</td>\n",
       "      <td>25.28</td>\n",
       "      <td>0</td>\n",
       "      <td>0</td>\n",
       "      <td>0</td>\n",
       "      <td>1</td>\n",
       "      <td>0</td>\n",
       "      <td>0</td>\n",
       "    </tr>\n",
       "    <tr>\n",
       "      <th>2</th>\n",
       "      <td>11</td>\n",
       "      <td>42.69</td>\n",
       "      <td>43.93</td>\n",
       "      <td>43.73</td>\n",
       "      <td>0</td>\n",
       "      <td>1</td>\n",
       "      <td>0</td>\n",
       "      <td>0</td>\n",
       "      <td>0</td>\n",
       "      <td>0</td>\n",
       "    </tr>\n",
       "    <tr>\n",
       "      <th>3</th>\n",
       "      <td>3</td>\n",
       "      <td>5.18</td>\n",
       "      <td>5.16</td>\n",
       "      <td>6.46</td>\n",
       "      <td>0</td>\n",
       "      <td>0</td>\n",
       "      <td>0</td>\n",
       "      <td>0</td>\n",
       "      <td>0</td>\n",
       "      <td>1</td>\n",
       "    </tr>\n",
       "    <tr>\n",
       "      <th>4</th>\n",
       "      <td>7</td>\n",
       "      <td>13.08</td>\n",
       "      <td>14.89</td>\n",
       "      <td>14.80</td>\n",
       "      <td>0</td>\n",
       "      <td>0</td>\n",
       "      <td>0</td>\n",
       "      <td>0</td>\n",
       "      <td>1</td>\n",
       "      <td>0</td>\n",
       "    </tr>\n",
       "  </tbody>\n",
       "</table>\n",
       "</div>"
      ],
      "text/plain": [
       "   Level  Health  Energy  Sanity  Demonic  Devilkin  Dragon  Elemental  Fey  \\\n",
       "0      5   47.68   47.82   51.38        1         0       0          0    0   \n",
       "1      3   27.25   21.90   25.28        0         0       0          1    0   \n",
       "2     11   42.69   43.93   43.73        0         1       0          0    0   \n",
       "3      3    5.18    5.16    6.46        0         0       0          0    0   \n",
       "4      7   13.08   14.89   14.80        0         0       0          0    1   \n",
       "\n",
       "   Undead  \n",
       "0       0  \n",
       "1       0  \n",
       "2       0  \n",
       "3       1  \n",
       "4       0  "
      ]
     },
     "execution_count": 413,
     "metadata": {},
     "output_type": "execute_result"
    }
   ],
   "source": [
    "data_encoded.head()"
   ]
  },
  {
   "cell_type": "code",
   "execution_count": 414,
   "metadata": {},
   "outputs": [
    {
     "name": "stdout",
     "output_type": "stream",
     "text": [
      "(2500, 10)\n",
      "(2500,)\n"
     ]
    }
   ],
   "source": [
    "print(data_encoded.shape)\n",
    "print(oneD_y.shape)"
   ]
  },
  {
   "cell_type": "code",
   "execution_count": 415,
   "metadata": {},
   "outputs": [],
   "source": [
    "X_train, X_val, y_train, y_val = train_test_split(data_encoded, oneD_y, test_size=0.2, random_state=42)"
   ]
  },
  {
   "cell_type": "code",
   "execution_count": 416,
   "metadata": {},
   "outputs": [
    {
     "name": "stdout",
     "output_type": "stream",
     "text": [
      "(2000, 10)\n",
      "(500, 10)\n",
      "(2000,)\n",
      "(500,)\n"
     ]
    }
   ],
   "source": [
    "print(X_train.shape)\n",
    "print(X_val.shape)\n",
    "print(y_train.shape)\n",
    "print(y_val.shape)"
   ]
  },
  {
   "cell_type": "code",
   "execution_count": 417,
   "metadata": {},
   "outputs": [
    {
     "data": {
      "text/html": [
       "<div>\n",
       "<style scoped>\n",
       "    .dataframe tbody tr th:only-of-type {\n",
       "        vertical-align: middle;\n",
       "    }\n",
       "\n",
       "    .dataframe tbody tr th {\n",
       "        vertical-align: top;\n",
       "    }\n",
       "\n",
       "    .dataframe thead th {\n",
       "        text-align: right;\n",
       "    }\n",
       "</style>\n",
       "<table border=\"1\" class=\"dataframe\">\n",
       "  <thead>\n",
       "    <tr style=\"text-align: right;\">\n",
       "      <th></th>\n",
       "      <th>Level</th>\n",
       "      <th>Health</th>\n",
       "      <th>Energy</th>\n",
       "      <th>Sanity</th>\n",
       "      <th>Demonic</th>\n",
       "      <th>Devilkin</th>\n",
       "      <th>Dragon</th>\n",
       "      <th>Elemental</th>\n",
       "      <th>Fey</th>\n",
       "      <th>Undead</th>\n",
       "    </tr>\n",
       "  </thead>\n",
       "  <tbody>\n",
       "    <tr>\n",
       "      <th>2055</th>\n",
       "      <td>5</td>\n",
       "      <td>27.80</td>\n",
       "      <td>28.48</td>\n",
       "      <td>30.39</td>\n",
       "      <td>1</td>\n",
       "      <td>0</td>\n",
       "      <td>0</td>\n",
       "      <td>0</td>\n",
       "      <td>0</td>\n",
       "      <td>0</td>\n",
       "    </tr>\n",
       "    <tr>\n",
       "      <th>1961</th>\n",
       "      <td>12</td>\n",
       "      <td>23.34</td>\n",
       "      <td>23.44</td>\n",
       "      <td>24.85</td>\n",
       "      <td>0</td>\n",
       "      <td>0</td>\n",
       "      <td>1</td>\n",
       "      <td>0</td>\n",
       "      <td>0</td>\n",
       "      <td>0</td>\n",
       "    </tr>\n",
       "    <tr>\n",
       "      <th>1864</th>\n",
       "      <td>10</td>\n",
       "      <td>59.04</td>\n",
       "      <td>61.35</td>\n",
       "      <td>57.20</td>\n",
       "      <td>1</td>\n",
       "      <td>0</td>\n",
       "      <td>0</td>\n",
       "      <td>0</td>\n",
       "      <td>0</td>\n",
       "      <td>0</td>\n",
       "    </tr>\n",
       "    <tr>\n",
       "      <th>2326</th>\n",
       "      <td>8</td>\n",
       "      <td>50.57</td>\n",
       "      <td>49.48</td>\n",
       "      <td>46.94</td>\n",
       "      <td>0</td>\n",
       "      <td>0</td>\n",
       "      <td>0</td>\n",
       "      <td>0</td>\n",
       "      <td>1</td>\n",
       "      <td>0</td>\n",
       "    </tr>\n",
       "    <tr>\n",
       "      <th>461</th>\n",
       "      <td>1</td>\n",
       "      <td>5.71</td>\n",
       "      <td>7.98</td>\n",
       "      <td>7.80</td>\n",
       "      <td>0</td>\n",
       "      <td>0</td>\n",
       "      <td>0</td>\n",
       "      <td>1</td>\n",
       "      <td>0</td>\n",
       "      <td>0</td>\n",
       "    </tr>\n",
       "  </tbody>\n",
       "</table>\n",
       "</div>"
      ],
      "text/plain": [
       "      Level  Health  Energy  Sanity  Demonic  Devilkin  Dragon  Elemental  \\\n",
       "2055      5   27.80   28.48   30.39        1         0       0          0   \n",
       "1961     12   23.34   23.44   24.85        0         0       1          0   \n",
       "1864     10   59.04   61.35   57.20        1         0       0          0   \n",
       "2326      8   50.57   49.48   46.94        0         0       0          0   \n",
       "461       1    5.71    7.98    7.80        0         0       0          1   \n",
       "\n",
       "      Fey  Undead  \n",
       "2055    0       0  \n",
       "1961    0       0  \n",
       "1864    0       0  \n",
       "2326    1       0  \n",
       "461     0       0  "
      ]
     },
     "execution_count": 417,
     "metadata": {},
     "output_type": "execute_result"
    }
   ],
   "source": [
    "X_train.head()"
   ]
  },
  {
   "cell_type": "code",
   "execution_count": 418,
   "metadata": {},
   "outputs": [
    {
     "name": "stdout",
     "output_type": "stream",
     "text": [
      "      Level  Health  Energy  Sanity  Demonic  Devilkin  Dragon  Elemental  \\\n",
      "1447      4   34.10   32.27   28.75        0         0       0          1   \n",
      "1114     10   20.66   20.12   20.31        0         0       1          0   \n",
      "1064      7   13.23   14.36   13.44        1         0       0          0   \n",
      "2287      7   14.38   14.44   14.48        0         0       0          0   \n",
      "1537      6   48.24   48.88   46.74        0         1       0          0   \n",
      "\n",
      "      Fey  Undead  \n",
      "1447    0       0  \n",
      "1114    0       0  \n",
      "1064    0       0  \n",
      "2287    0       1  \n",
      "1537    0       0  \n"
     ]
    }
   ],
   "source": [
    "print(X_val.head())\n",
    "#print(y_val.head())"
   ]
  },
  {
   "cell_type": "code",
   "execution_count": 420,
   "metadata": {},
   "outputs": [
    {
     "name": "stdout",
     "output_type": "stream",
     "text": [
      "Baseline Forest: Training Accuracy: 1.0\n",
      "Baseline Forest: Validation Accuracy 0.958\n",
      "Forest: Training Accuracy: 0.9985\n",
      "Forest: Validation Accuracy 0.94\n"
     ]
    }
   ],
   "source": [
    "baseline = RandomForestClassifier()\n",
    "baseline.fit(X_train, y_train)\n",
    "model_rf = RandomForestClassifier(random_state=42,\n",
    "                                  n_jobs=-1,\n",
    "                                  max_depth=50,\n",
    "                                  max_samples=0.42,\n",
    "                                  n_estimators=100)\n",
    "model_rf.fit(X_train, y_train)\n",
    "\n",
    "print('Baseline Forest: Training Accuracy:', baseline.score(X_train, y_train))\n",
    "print('Baseline Forest: Validation Accuracy', baseline.score(X_val, y_val))\n",
    "\n",
    "print('Forest: Training Accuracy:', model_rf.score(X_train, y_train))\n",
    "print('Forest: Validation Accuracy', model_rf.score(X_val, y_val))"
   ]
  },
  {
   "cell_type": "code",
   "execution_count": 403,
   "metadata": {},
   "outputs": [
    {
     "name": "stdout",
     "output_type": "stream",
     "text": [
      "Training Accuracy: Adaboost 0.443\n",
      "Validation Accuracy: Adaboost 0.428\n"
     ]
    }
   ],
   "source": [
    "from sklearn.ensemble import AdaBoostClassifier\n",
    "\n",
    "ada_classifier = AdaBoostClassifier(n_estimators=50, learning_rate=2, random_state=42, )\n",
    "ada_classifier.fit(X_train,y_train)\n",
    "\n",
    "\n",
    "print('Training Accuracy: Adaboost', ada_classifier.score(X_train, y_train))\n",
    "print('Validation Accuracy: Adaboost', ada_classifier.score(X_val, y_val))"
   ]
  },
  {
   "cell_type": "code",
   "execution_count": 404,
   "metadata": {},
   "outputs": [
    {
     "name": "stdout",
     "output_type": "stream",
     "text": [
      "Training Accuracy: xgboost 0.9805\n",
      "Validation Accuracy: xgboost 0.928\n"
     ]
    }
   ],
   "source": [
    "from xgboost import XGBClassifier\n",
    "\n",
    "xg_classifier = XGBClassifier(n_estimators=10, max_depth=5, random_state=42, eval_metric='merror')\n",
    "\n",
    "xg_classifier.fit(X_train,y_train)\n",
    "\n",
    "print('Training Accuracy: xgboost', xg_classifier.score(X_train, y_train))\n",
    "print('Validation Accuracy: xgboost', xg_classifier.score(X_val, y_val))"
   ]
  },
  {
   "cell_type": "code",
   "execution_count": null,
   "metadata": {},
   "outputs": [],
   "source": [
    "\"\"\"\n",
    "3 seperate models were trained on the data pulled from the mongoDB Collection,\n",
    "AdaBoostClassifier, Random Forest Classifier, and XGBClassifier\n",
    "\n",
    "I tuned the hyperparameters in all 3 models manually by testing each model 10 times\n",
    "then recorded the accuracy and compared them to each other. \n",
    "The adaboost was the lowest scoring of the three at 42% the XGBClassifier at 92%\n",
    "and the best model was the baseline Random Forest model with a 97%.\n",
    "The data was split with a train 80% and validation set 20%. \n",
    "All scores were from the validation set of the split data.\n",
    "\"\"\""
   ]
  }
 ],
 "metadata": {
  "kernelspec": {
   "display_name": ".venv",
   "language": "python",
   "name": "python3"
  },
  "language_info": {
   "codemirror_mode": {
    "name": "ipython",
    "version": 3
   },
   "file_extension": ".py",
   "mimetype": "text/x-python",
   "name": "python",
   "nbconvert_exporter": "python",
   "pygments_lexer": "ipython3",
   "version": "3.8.0"
  }
 },
 "nbformat": 4,
 "nbformat_minor": 2
}
